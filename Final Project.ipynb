{
 "cells": [
  {
   "cell_type": "markdown",
   "id": "ba86543c-d82a-433c-b17f-c55005cafc6f",
   "metadata": {},
   "source": [
    "# CS211: Data Privacy\n",
    "## Final Project\n",
    "### Nikhil and James"
   ]
  },
  {
   "cell_type": "code",
   "execution_count": 49,
   "id": "e6d5f781-33d2-4c1a-97e1-498a70bbf66e",
   "metadata": {},
   "outputs": [
    {
     "name": "stderr",
     "output_type": "stream",
     "text": [
      "/tmp/ipykernel_52444/535424821.py:6: MatplotlibDeprecationWarning: The seaborn styles shipped by Matplotlib are deprecated since 3.6, as they no longer correspond to the styles shipped by seaborn. However, they will remain available as 'seaborn-v0_8-<style>'. Alternatively, directly use the seaborn API instead.\n",
      "  plt.style.use('seaborn-whitegrid')\n"
     ]
    }
   ],
   "source": [
    "# Load the data and libraries\n",
    "import pandas as pd\n",
    "import numpy as np\n",
    "from scipy import stats\n",
    "import matplotlib.pyplot as plt\n",
    "plt.style.use('seaborn-whitegrid')\n",
    "\n",
    "# Preliminary utility functions\n",
    "def laplace_mech(v, sensitivity, epsilon):\n",
    "    return v + np.random.laplace(loc=0, scale=sensitivity / epsilon)\n",
    "\n",
    "def laplace_mech_vec(qs, sensitivity, epsilon):\n",
    "    return [laplace_mech(q, sensitivity, epsilon) for q in qs]\n",
    "\n",
    "def gaussian_mech(v, sensitivity, epsilon, delta):\n",
    "    return v + np.random.normal(loc=0, scale=sensitivity * np.sqrt(2*np.log(1.25/delta)) / epsilon)\n",
    "\n",
    "def gaussian_mech_vec(vec, sensitivity, epsilon, delta):\n",
    "    return [v + np.random.normal(loc=0, scale=sensitivity * np.sqrt(2*np.log(1.25/delta)) / epsilon)\n",
    "            for v in vec]\n",
    "\n",
    "def pct_error(orig, priv):\n",
    "    return np.abs(orig - priv)/orig * 100.0\n",
    "\n",
    "# Database containing the default data of credit card clients Taiwan during 2005 \n",
    "cc_default_db = pd.read_csv('https://raw.githubusercontent.com/nikhilchoppa/cs211-final-project/main/UCI_Credit_Card.csv')"
   ]
  },
  {
   "cell_type": "markdown",
   "id": "4bc53a0a",
   "metadata": {},
   "source": [
    "## Format database in order to calculate some statistics\n",
    "### ...Merge all the columns that have `\"_#\"`\n",
    "This is just signifying month to month statistics and it is going to be easier to work with if they are centralized to one column for PAY, BILL_AMT,and PAY_AMT"
   ]
  },
  {
   "cell_type": "code",
   "execution_count": 51,
   "id": "374a3e47",
   "metadata": {},
   "outputs": [],
   "source": [
    "# Generate column names\n",
    "merge_cols = []\n",
    "for comb_col in ['PAY', 'BILL_AMT', 'PAY_AMT']:\n",
    "    comb_row = []\n",
    "    for i in range(1,7):\n",
    "        if comb_col == 'PAY':\n",
    "            comb_row.append(comb_col + '_' + str(i))\n",
    "        else:\n",
    "            comb_row.append(comb_col + str(i))\n",
    "    merge_cols.append(comb_row)"
   ]
  },
  {
   "cell_type": "code",
   "execution_count": 52,
   "id": "3ee3505b",
   "metadata": {},
   "outputs": [],
   "source": [
    "fresh_cols = []\n",
    "for col in merge_cols:\n",
    "    new_row = []\n",
    "    for row in range(len(cc_default_db)):\n",
    "        new_col = []\n",
    "        for sub_col in col:\n",
    "            new_col.append(cc_default_db[sub_col][row])\n",
    "        new_row.append(new_col)\n",
    "    fresh_cols.append(new_row)"
   ]
  },
  {
   "cell_type": "code",
   "execution_count": 53,
   "id": "58410efc",
   "metadata": {},
   "outputs": [],
   "source": [
    "for subcol in merge_cols:\n",
    "    for c in subcol:\n",
    "        cc_default_db.drop(c, axis=1, inplace=True)\n",
    "cc_default_db['PAY'], cc_default_db['BILL_AMT'], cc_default_db['PAY_AMT'] = [fresh_cols[0], fresh_cols[1], fresh_cols[2]]"
   ]
  },
  {
   "cell_type": "code",
   "execution_count": 55,
   "id": "c0cc64b9",
   "metadata": {},
   "outputs": [
    {
     "data": {
      "text/html": [
       "<div>\n",
       "<style scoped>\n",
       "    .dataframe tbody tr th:only-of-type {\n",
       "        vertical-align: middle;\n",
       "    }\n",
       "\n",
       "    .dataframe tbody tr th {\n",
       "        vertical-align: top;\n",
       "    }\n",
       "\n",
       "    .dataframe thead th {\n",
       "        text-align: right;\n",
       "    }\n",
       "</style>\n",
       "<table border=\"1\" class=\"dataframe\">\n",
       "  <thead>\n",
       "    <tr style=\"text-align: right;\">\n",
       "      <th></th>\n",
       "      <th>ID</th>\n",
       "      <th>LIMIT_BAL</th>\n",
       "      <th>SEX</th>\n",
       "      <th>EDUCATION</th>\n",
       "      <th>MARRIAGE</th>\n",
       "      <th>AGE</th>\n",
       "      <th>default.payment.next.month</th>\n",
       "      <th>PAY</th>\n",
       "      <th>BILL_AMT</th>\n",
       "      <th>PAY_AMT</th>\n",
       "    </tr>\n",
       "  </thead>\n",
       "  <tbody>\n",
       "    <tr>\n",
       "      <th>0</th>\n",
       "      <td>1</td>\n",
       "      <td>20000.0</td>\n",
       "      <td>2</td>\n",
       "      <td>2</td>\n",
       "      <td>1</td>\n",
       "      <td>24</td>\n",
       "      <td>1</td>\n",
       "      <td>[2, 2, -1, -1, -2, -2]</td>\n",
       "      <td>[3913.0, 3102.0, 689.0, 0.0, 0.0, 0.0]</td>\n",
       "      <td>[0.0, 689.0, 0.0, 0.0, 0.0, 0.0]</td>\n",
       "    </tr>\n",
       "    <tr>\n",
       "      <th>1</th>\n",
       "      <td>2</td>\n",
       "      <td>120000.0</td>\n",
       "      <td>2</td>\n",
       "      <td>2</td>\n",
       "      <td>2</td>\n",
       "      <td>26</td>\n",
       "      <td>1</td>\n",
       "      <td>[-1, 2, 0, 0, 0, 2]</td>\n",
       "      <td>[2682.0, 1725.0, 2682.0, 3272.0, 3455.0, 3261.0]</td>\n",
       "      <td>[0.0, 1000.0, 1000.0, 1000.0, 0.0, 2000.0]</td>\n",
       "    </tr>\n",
       "    <tr>\n",
       "      <th>2</th>\n",
       "      <td>3</td>\n",
       "      <td>90000.0</td>\n",
       "      <td>2</td>\n",
       "      <td>2</td>\n",
       "      <td>2</td>\n",
       "      <td>34</td>\n",
       "      <td>0</td>\n",
       "      <td>[0, 0, 0, 0, 0, 0]</td>\n",
       "      <td>[29239.0, 14027.0, 13559.0, 14331.0, 14948.0, ...</td>\n",
       "      <td>[1518.0, 1500.0, 1000.0, 1000.0, 1000.0, 5000.0]</td>\n",
       "    </tr>\n",
       "    <tr>\n",
       "      <th>3</th>\n",
       "      <td>4</td>\n",
       "      <td>50000.0</td>\n",
       "      <td>2</td>\n",
       "      <td>2</td>\n",
       "      <td>1</td>\n",
       "      <td>37</td>\n",
       "      <td>0</td>\n",
       "      <td>[0, 0, 0, 0, 0, 0]</td>\n",
       "      <td>[46990.0, 48233.0, 49291.0, 28314.0, 28959.0, ...</td>\n",
       "      <td>[2000.0, 2019.0, 1200.0, 1100.0, 1069.0, 1000.0]</td>\n",
       "    </tr>\n",
       "    <tr>\n",
       "      <th>4</th>\n",
       "      <td>5</td>\n",
       "      <td>50000.0</td>\n",
       "      <td>1</td>\n",
       "      <td>2</td>\n",
       "      <td>1</td>\n",
       "      <td>57</td>\n",
       "      <td>0</td>\n",
       "      <td>[-1, 0, -1, 0, 0, 0]</td>\n",
       "      <td>[8617.0, 5670.0, 35835.0, 20940.0, 19146.0, 19...</td>\n",
       "      <td>[2000.0, 36681.0, 10000.0, 9000.0, 689.0, 679.0]</td>\n",
       "    </tr>\n",
       "  </tbody>\n",
       "</table>\n",
       "</div>"
      ],
      "text/plain": [
       "   ID  LIMIT_BAL  SEX  EDUCATION  MARRIAGE  AGE  default.payment.next.month  \\\n",
       "0   1    20000.0    2          2         1   24                           1   \n",
       "1   2   120000.0    2          2         2   26                           1   \n",
       "2   3    90000.0    2          2         2   34                           0   \n",
       "3   4    50000.0    2          2         1   37                           0   \n",
       "4   5    50000.0    1          2         1   57                           0   \n",
       "\n",
       "                      PAY                                           BILL_AMT  \\\n",
       "0  [2, 2, -1, -1, -2, -2]             [3913.0, 3102.0, 689.0, 0.0, 0.0, 0.0]   \n",
       "1     [-1, 2, 0, 0, 0, 2]   [2682.0, 1725.0, 2682.0, 3272.0, 3455.0, 3261.0]   \n",
       "2      [0, 0, 0, 0, 0, 0]  [29239.0, 14027.0, 13559.0, 14331.0, 14948.0, ...   \n",
       "3      [0, 0, 0, 0, 0, 0]  [46990.0, 48233.0, 49291.0, 28314.0, 28959.0, ...   \n",
       "4    [-1, 0, -1, 0, 0, 0]  [8617.0, 5670.0, 35835.0, 20940.0, 19146.0, 19...   \n",
       "\n",
       "                                            PAY_AMT  \n",
       "0                  [0.0, 689.0, 0.0, 0.0, 0.0, 0.0]  \n",
       "1        [0.0, 1000.0, 1000.0, 1000.0, 0.0, 2000.0]  \n",
       "2  [1518.0, 1500.0, 1000.0, 1000.0, 1000.0, 5000.0]  \n",
       "3  [2000.0, 2019.0, 1200.0, 1100.0, 1069.0, 1000.0]  \n",
       "4  [2000.0, 36681.0, 10000.0, 9000.0, 689.0, 679.0]  "
      ]
     },
     "execution_count": 55,
     "metadata": {},
     "output_type": "execute_result"
    }
   ],
   "source": [
    "cc_default_db.head()"
   ]
  },
  {
   "cell_type": "code",
   "execution_count": null,
   "id": "4e700de8",
   "metadata": {},
   "outputs": [],
   "source": []
  }
 ],
 "metadata": {
  "kernelspec": {
   "display_name": "Python 3 (ipykernel)",
   "language": "python",
   "name": "python3"
  },
  "language_info": {
   "codemirror_mode": {
    "name": "ipython",
    "version": 3
   },
   "file_extension": ".py",
   "mimetype": "text/x-python",
   "name": "python",
   "nbconvert_exporter": "python",
   "pygments_lexer": "ipython3",
   "version": "3.10.8"
  }
 },
 "nbformat": 4,
 "nbformat_minor": 5
}
