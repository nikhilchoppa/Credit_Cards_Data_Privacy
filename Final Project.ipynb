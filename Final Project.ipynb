{
 "cells": [
  {
   "cell_type": "markdown",
   "id": "ba86543c-d82a-433c-b17f-c55005cafc6f",
   "metadata": {},
   "source": [
    "# CS211: Data Privacy\n",
    "## Final Project\n",
    "### Nikhil and James"
   ]
  },
  {
   "cell_type": "code",
   "execution_count": 13,
   "id": "e6d5f781-33d2-4c1a-97e1-498a70bbf66e",
   "metadata": {},
   "outputs": [
    {
     "name": "stderr",
     "output_type": "stream",
     "text": [
      "/var/folders/tz/z5m6fg7905g1b0zpb1g0vm680000gn/T/ipykernel_46488/1109455332.py:7: MatplotlibDeprecationWarning: The seaborn styles shipped by Matplotlib are deprecated since 3.6, as they no longer correspond to the styles shipped by seaborn. However, they will remain available as 'seaborn-v0_8-<style>'. Alternatively, directly use the seaborn API instead.\n",
      "  plt.style.use('seaborn-whitegrid')\n"
     ]
    }
   ],
   "source": [
    "# Load the data and libraries\n",
    "import pandas as pd\n",
    "import numpy as np\n",
    "from scipy import stats\n",
    "import matplotlib.pyplot as plt\n",
    "import random\n",
    "plt.style.use('seaborn-whitegrid')\n",
    "\n",
    "# Preliminary utility functions\n",
    "def laplace_mech(v, sensitivity, epsilon):\n",
    "    return v + np.random.laplace(loc=0, scale=sensitivity / epsilon)\n",
    "\n",
    "def laplace_mech_vec(qs, sensitivity, epsilon):\n",
    "    return [laplace_mech(q, sensitivity, epsilon) for q in qs]\n",
    "\n",
    "def gaussian_mech(v, sensitivity, epsilon, delta):\n",
    "    return v + np.random.normal(loc=0, scale=sensitivity * np.sqrt(2*np.log(1.25/delta)) / epsilon)\n",
    "\n",
    "def gaussian_mech_vec(vec, sensitivity, epsilon, delta):\n",
    "    return [v + np.random.normal(loc=0, scale=sensitivity * np.sqrt(2*np.log(1.25/delta)) / epsilon)\n",
    "            for v in vec]\n",
    "\n",
    "def pct_error(orig, priv):\n",
    "    return np.abs(orig - priv)/orig * 100.0\n",
    "\n",
    "# Database containing the default data of credit card clients Taiwan during 2005 \n",
    "cc_default_db = pd.read_csv('https://raw.githubusercontent.com/nikhilchoppa/cs211-final-project/main/UCI_Credit_Card.csv')"
   ]
  },
  {
   "cell_type": "code",
   "execution_count": 71,
   "id": "f8ca6f98-0da8-4021-bb55-d7746f3b44f1",
   "metadata": {},
   "outputs": [
    {
     "data": {
      "text/html": [
       "<div>\n",
       "<style scoped>\n",
       "    .dataframe tbody tr th:only-of-type {\n",
       "        vertical-align: middle;\n",
       "    }\n",
       "\n",
       "    .dataframe tbody tr th {\n",
       "        vertical-align: top;\n",
       "    }\n",
       "\n",
       "    .dataframe thead th {\n",
       "        text-align: right;\n",
       "    }\n",
       "</style>\n",
       "<table border=\"1\" class=\"dataframe\">\n",
       "  <thead>\n",
       "    <tr style=\"text-align: right;\">\n",
       "      <th></th>\n",
       "      <th>ID</th>\n",
       "      <th>LIMIT_BAL</th>\n",
       "      <th>SEX</th>\n",
       "      <th>EDUCATION</th>\n",
       "      <th>MARRIAGE</th>\n",
       "      <th>AGE</th>\n",
       "      <th>PAY_1</th>\n",
       "      <th>PAY_2</th>\n",
       "      <th>PAY_3</th>\n",
       "      <th>PAY_4</th>\n",
       "      <th>...</th>\n",
       "      <th>BILL_AMT4</th>\n",
       "      <th>BILL_AMT5</th>\n",
       "      <th>BILL_AMT6</th>\n",
       "      <th>PAY_AMT1</th>\n",
       "      <th>PAY_AMT2</th>\n",
       "      <th>PAY_AMT3</th>\n",
       "      <th>PAY_AMT4</th>\n",
       "      <th>PAY_AMT5</th>\n",
       "      <th>PAY_AMT6</th>\n",
       "      <th>default.payment.next.month</th>\n",
       "    </tr>\n",
       "  </thead>\n",
       "  <tbody>\n",
       "    <tr>\n",
       "      <th>0</th>\n",
       "      <td>1</td>\n",
       "      <td>20000.0</td>\n",
       "      <td>2</td>\n",
       "      <td>2</td>\n",
       "      <td>1</td>\n",
       "      <td>20</td>\n",
       "      <td>2</td>\n",
       "      <td>2</td>\n",
       "      <td>-1</td>\n",
       "      <td>-1</td>\n",
       "      <td>...</td>\n",
       "      <td>0.0</td>\n",
       "      <td>0.0</td>\n",
       "      <td>0.0</td>\n",
       "      <td>0.0</td>\n",
       "      <td>689.0</td>\n",
       "      <td>0.0</td>\n",
       "      <td>0.0</td>\n",
       "      <td>0.0</td>\n",
       "      <td>0.0</td>\n",
       "      <td>1</td>\n",
       "    </tr>\n",
       "    <tr>\n",
       "      <th>1</th>\n",
       "      <td>2</td>\n",
       "      <td>120000.0</td>\n",
       "      <td>2</td>\n",
       "      <td>2</td>\n",
       "      <td>2</td>\n",
       "      <td>20</td>\n",
       "      <td>-1</td>\n",
       "      <td>2</td>\n",
       "      <td>0</td>\n",
       "      <td>0</td>\n",
       "      <td>...</td>\n",
       "      <td>3272.0</td>\n",
       "      <td>3455.0</td>\n",
       "      <td>3261.0</td>\n",
       "      <td>0.0</td>\n",
       "      <td>1000.0</td>\n",
       "      <td>1000.0</td>\n",
       "      <td>1000.0</td>\n",
       "      <td>0.0</td>\n",
       "      <td>2000.0</td>\n",
       "      <td>1</td>\n",
       "    </tr>\n",
       "    <tr>\n",
       "      <th>2</th>\n",
       "      <td>3</td>\n",
       "      <td>90000.0</td>\n",
       "      <td>2</td>\n",
       "      <td>2</td>\n",
       "      <td>2</td>\n",
       "      <td>30</td>\n",
       "      <td>0</td>\n",
       "      <td>0</td>\n",
       "      <td>0</td>\n",
       "      <td>0</td>\n",
       "      <td>...</td>\n",
       "      <td>14331.0</td>\n",
       "      <td>14948.0</td>\n",
       "      <td>15549.0</td>\n",
       "      <td>1518.0</td>\n",
       "      <td>1500.0</td>\n",
       "      <td>1000.0</td>\n",
       "      <td>1000.0</td>\n",
       "      <td>1000.0</td>\n",
       "      <td>5000.0</td>\n",
       "      <td>0</td>\n",
       "    </tr>\n",
       "    <tr>\n",
       "      <th>3</th>\n",
       "      <td>4</td>\n",
       "      <td>50000.0</td>\n",
       "      <td>2</td>\n",
       "      <td>2</td>\n",
       "      <td>1</td>\n",
       "      <td>30</td>\n",
       "      <td>0</td>\n",
       "      <td>0</td>\n",
       "      <td>0</td>\n",
       "      <td>0</td>\n",
       "      <td>...</td>\n",
       "      <td>28314.0</td>\n",
       "      <td>28959.0</td>\n",
       "      <td>29547.0</td>\n",
       "      <td>2000.0</td>\n",
       "      <td>2019.0</td>\n",
       "      <td>1200.0</td>\n",
       "      <td>1100.0</td>\n",
       "      <td>1069.0</td>\n",
       "      <td>1000.0</td>\n",
       "      <td>0</td>\n",
       "    </tr>\n",
       "    <tr>\n",
       "      <th>4</th>\n",
       "      <td>5</td>\n",
       "      <td>50000.0</td>\n",
       "      <td>1</td>\n",
       "      <td>2</td>\n",
       "      <td>1</td>\n",
       "      <td>50</td>\n",
       "      <td>-1</td>\n",
       "      <td>0</td>\n",
       "      <td>-1</td>\n",
       "      <td>0</td>\n",
       "      <td>...</td>\n",
       "      <td>20940.0</td>\n",
       "      <td>19146.0</td>\n",
       "      <td>19131.0</td>\n",
       "      <td>2000.0</td>\n",
       "      <td>36681.0</td>\n",
       "      <td>10000.0</td>\n",
       "      <td>9000.0</td>\n",
       "      <td>689.0</td>\n",
       "      <td>679.0</td>\n",
       "      <td>0</td>\n",
       "    </tr>\n",
       "  </tbody>\n",
       "</table>\n",
       "<p>5 rows × 25 columns</p>\n",
       "</div>"
      ],
      "text/plain": [
       "   ID  LIMIT_BAL  SEX  EDUCATION  MARRIAGE  AGE  PAY_1  PAY_2  PAY_3  PAY_4  \\\n",
       "0   1    20000.0    2          2         1   20      2      2     -1     -1   \n",
       "1   2   120000.0    2          2         2   20     -1      2      0      0   \n",
       "2   3    90000.0    2          2         2   30      0      0      0      0   \n",
       "3   4    50000.0    2          2         1   30      0      0      0      0   \n",
       "4   5    50000.0    1          2         1   50     -1      0     -1      0   \n",
       "\n",
       "   ...  BILL_AMT4  BILL_AMT5  BILL_AMT6  PAY_AMT1  PAY_AMT2  PAY_AMT3  \\\n",
       "0  ...        0.0        0.0        0.0       0.0     689.0       0.0   \n",
       "1  ...     3272.0     3455.0     3261.0       0.0    1000.0    1000.0   \n",
       "2  ...    14331.0    14948.0    15549.0    1518.0    1500.0    1000.0   \n",
       "3  ...    28314.0    28959.0    29547.0    2000.0    2019.0    1200.0   \n",
       "4  ...    20940.0    19146.0    19131.0    2000.0   36681.0   10000.0   \n",
       "\n",
       "   PAY_AMT4  PAY_AMT5  PAY_AMT6  default.payment.next.month  \n",
       "0       0.0       0.0       0.0                           1  \n",
       "1    1000.0       0.0    2000.0                           1  \n",
       "2    1000.0    1000.0    5000.0                           0  \n",
       "3    1100.0    1069.0    1000.0                           0  \n",
       "4    9000.0     689.0     679.0                           0  \n",
       "\n",
       "[5 rows x 25 columns]"
      ]
     },
     "execution_count": 71,
     "metadata": {},
     "output_type": "execute_result"
    }
   ],
<<<<<<< Updated upstream
<<<<<<< Updated upstream
   "source": [
    "cc_default_db.head()"
   ]
  },
  {
   "cell_type": "markdown",
   "id": "b9ec3949-0bef-4e53-9b2b-99d6f91baa1a",
   "metadata": {},
   "source": [
    "### There are 25 variables in the `cc_default_db` Dataset:\n",
    "\n",
    "- ID: ID of each client\n",
    "- LIMIT_BAL: Amount of given credit in NT dollars (includes individual and family/supplementary credit\n",
    "- SEX: Gender (1=male, 2=female)\n",
    "- EDUCATION: (1=graduate school, 2=university, 3=high school, 4=others, 5=unknown, 6=unknown)\n",
    "- MARRIAGE: Marital status (1=married, 2=single, 3=others)\n",
    "- AGE: Age in years\n",
    "- PAY_0: Repayment status in September, 2005 (-1=pay duly, 1=payment delay for one month, 2=payment delay for two months, … 8=payment delay for eight months, 9=payment delay for nine months and above)\n",
    "- PAY_2: Repayment status in August, 2005 (scale same as above)\n",
    "- PAY_3: Repayment status in July, 2005 (scale same as above)\n",
    "- PAY_4: Repayment status in June, 2005 (scale same as above)\n",
    "- PAY_5: Repayment status in May, 2005 (scale same as above)\n",
    "- PAY_6: Repayment status in April, 2005 (scale same as above)\n",
    "- BILL_AMT1: Amount of bill statement in September, 2005 (NT dollar)\n",
    "- BILL_AMT2: Amount of bill statement in August, 2005 (NT dollar)\n",
    "- BILL_AMT3: Amount of bill statement in July, 2005 (NT dollar)\n",
    "- BILL_AMT4: Amount of bill statement in June, 2005 (NT dollar)\n",
    "- BILL_AMT5: Amount of bill statement in May, 2005 (NT dollar)\n",
    "- BILL_AMT6: Amount of bill statement in April, 2005 (NT dollar)\n",
    "- PAY_AMT1: Amount of previous payment in September, 2005 (NT dollar)\n",
    "- PAY_AMT2: Amount of previous payment in August, 2005 (NT dollar)\n",
    "- PAY_AMT3: Amount of previous payment in July, 2005 (NT dollar)\n",
    "- PAY_AMT4: Amount of previous payment in June, 2005 (NT dollar)\n",
    "- PAY_AMT5: Amount of previous payment in May, 2005 (NT dollar)\n",
    "- PAY_AMT6: Amount of previous payment in April, 2005 (NT dollar)\n",
    "- default.payment.next.month: Default payment (1=yes, 0=no)"
   ]
  },
  {
   "cell_type": "markdown",
   "id": "5c8ffcc9",
   "metadata": {},
   "source": [
    "## Generalize ages\n",
    "A good first step to ensure privacy but only will satisfy k-anonimity, differential privacy will require additonal work "
   ]
  },
  {
   "cell_type": "code",
   "execution_count": 69,
   "id": "3420c33d",
   "metadata": {},
   "outputs": [],
   "source": [
    "cc_default_db.head()"
   ]
  },
  {
   "cell_type": "markdown",
   "id": "b9ec3949-0bef-4e53-9b2b-99d6f91baa1a",
   "metadata": {},
   "source": [
    "### There are 25 variables in the `cc_default_db` Dataset:\n",
    "\n",
    "- ID: ID of each client\n",
    "- LIMIT_BAL: Amount of given credit in NT dollars (includes individual and family/supplementary credit\n",
    "- SEX: Gender (1=male, 2=female)\n",
    "- EDUCATION: (1=graduate school, 2=university, 3=high school, 4=others, 5=unknown, 6=unknown)\n",
    "- MARRIAGE: Marital status (1=married, 2=single, 3=others)\n",
    "- AGE: Age in years\n",
    "- PAY_0: Repayment status in September, 2005 (-1=pay duly, 1=payment delay for one month, 2=payment delay for two months, … 8=payment delay for eight months, 9=payment delay for nine months and above)\n",
    "- PAY_2: Repayment status in August, 2005 (scale same as above)\n",
    "- PAY_3: Repayment status in July, 2005 (scale same as above)\n",
    "- PAY_4: Repayment status in June, 2005 (scale same as above)\n",
    "- PAY_5: Repayment status in May, 2005 (scale same as above)\n",
    "- PAY_6: Repayment status in April, 2005 (scale same as above)\n",
    "- BILL_AMT1: Amount of bill statement in September, 2005 (NT dollar)\n",
    "- BILL_AMT2: Amount of bill statement in August, 2005 (NT dollar)\n",
    "- BILL_AMT3: Amount of bill statement in July, 2005 (NT dollar)\n",
    "- BILL_AMT4: Amount of bill statement in June, 2005 (NT dollar)\n",
    "- BILL_AMT5: Amount of bill statement in May, 2005 (NT dollar)\n",
    "- BILL_AMT6: Amount of bill statement in April, 2005 (NT dollar)\n",
    "- PAY_AMT1: Amount of previous payment in September, 2005 (NT dollar)\n",
    "- PAY_AMT2: Amount of previous payment in August, 2005 (NT dollar)\n",
    "- PAY_AMT3: Amount of previous payment in July, 2005 (NT dollar)\n",
    "- PAY_AMT4: Amount of previous payment in June, 2005 (NT dollar)\n",
    "- PAY_AMT5: Amount of previous payment in May, 2005 (NT dollar)\n",
    "- PAY_AMT6: Amount of previous payment in April, 2005 (NT dollar)\n",
    "- default.payment.next.month: Default payment (1=yes, 0=no)"
   ]
  },
  {
   "cell_type": "markdown",
   "id": "5c8ffcc9",
   "metadata": {},
   "source": [
    "## Generalize ages\n",
    "A good first step to ensure privacy but only will satisfy k-anonimity, differential privacy will require additonal work "
   ]
  },
  {
   "cell_type": "code",
   "execution_count": 69,
   "id": "3420c33d",
   "metadata": {},
   "outputs": [],
=======
>>>>>>> Stashed changes
   "source": [
    "cc_default_db.head()"
   ]
  },
  {
   "cell_type": "markdown",
   "id": "b9ec3949-0bef-4e53-9b2b-99d6f91baa1a",
   "metadata": {},
   "source": [
    "### There are 25 variables in the `cc_default_db` Dataset:\n",
    "\n",
    "- ID: ID of each client\n",
    "- LIMIT_BAL: Amount of given credit in NT dollars (includes individual and family/supplementary credit\n",
    "- SEX: Gender (1=male, 2=female)\n",
    "- EDUCATION: (1=graduate school, 2=university, 3=high school, 4=others, 5=unknown, 6=unknown)\n",
    "- MARRIAGE: Marital status (1=married, 2=single, 3=others)\n",
    "- AGE: Age in years\n",
    "- PAY_0: Repayment status in September, 2005 (-1=pay duly, 1=payment delay for one month, 2=payment delay for two months, … 8=payment delay for eight months, 9=payment delay for nine months and above)\n",
    "- PAY_2: Repayment status in August, 2005 (scale same as above)\n",
    "- PAY_3: Repayment status in July, 2005 (scale same as above)\n",
    "- PAY_4: Repayment status in June, 2005 (scale same as above)\n",
    "- PAY_5: Repayment status in May, 2005 (scale same as above)\n",
    "- PAY_6: Repayment status in April, 2005 (scale same as above)\n",
    "- BILL_AMT1: Amount of bill statement in September, 2005 (NT dollar)\n",
    "- BILL_AMT2: Amount of bill statement in August, 2005 (NT dollar)\n",
    "- BILL_AMT3: Amount of bill statement in July, 2005 (NT dollar)\n",
    "- BILL_AMT4: Amount of bill statement in June, 2005 (NT dollar)\n",
    "- BILL_AMT5: Amount of bill statement in May, 2005 (NT dollar)\n",
    "- BILL_AMT6: Amount of bill statement in April, 2005 (NT dollar)\n",
    "- PAY_AMT1: Amount of previous payment in September, 2005 (NT dollar)\n",
    "- PAY_AMT2: Amount of previous payment in August, 2005 (NT dollar)\n",
    "- PAY_AMT3: Amount of previous payment in July, 2005 (NT dollar)\n",
    "- PAY_AMT4: Amount of previous payment in June, 2005 (NT dollar)\n",
    "- PAY_AMT5: Amount of previous payment in May, 2005 (NT dollar)\n",
    "- PAY_AMT6: Amount of previous payment in April, 2005 (NT dollar)\n",
    "- default.payment.next.month: Default payment (1=yes, 0=no)"
   ]
  },
  {
   "cell_type": "markdown",
   "id": "5c8ffcc9",
   "metadata": {},
   "source": [
    "## Generalize ages\n",
    "A good first step to ensure privacy but only will satisfy k-anonimity, differential privacy will require additonal work "
   ]
  },
  {
   "cell_type": "code",
   "execution_count": 69,
   "id": "3420c33d",
   "metadata": {},
   "outputs": [],
   "source": [
    "# Generalizing the given column to essentially round to the nth decimal place\n",
    "depths = {\n",
    "    'AGE': 1\n",
    "}\n",
    "\n",
    "# Grabbed this part from HW2 / the textbook, applies the rounding described above to the given column(s) in the dataset\n",
    "cc_default_db['AGE'] = cc_default_db[['AGE']].apply(lambda x: x.apply(lambda y: int(int(y/(10**depths[x.name]))*(10**depths[x.name]))))"
   ]
  },
  {
   "cell_type": "markdown",
   "id": "3346cee5-b41f-475a-994f-a673a9290127",
   "metadata": {},
   "source": [
    "## Differential Privacy\n",
    "### Choosing a privacy budget\n",
    "Define the privacy budget in terms of epsilon $\\epsilon$, keeping in mind that each row is an individual and allocating the budget in terms of the individual. The classic epsilon value of 1 should suffice for what we are doing here (EXPLAIN MORE)."
   ]
  },
  {
   "cell_type": "code",
   "execution_count": 16,
   "id": "ef163509-312c-4127-8a35-49d4821b15d0",
   "metadata": {},
   "outputs": [],
   "source": [
    "epsilon = 0.1"
   ]
  },
  {
   "cell_type": "markdown",
   "id": "2e609a09-3c7f-4938-94f0-dd9eb0872885",
   "metadata": {},
   "source": [
    "Adding Differential Privacy to `BILL_AMT, PAY_AMT`"
   ]
  },
  {
   "cell_type": "code",
   "execution_count": 108,
   "id": "2d76a8a6-007b-4d1b-8e6b-42ff3bcb8ac6",
   "metadata": {},
   "outputs": [],
   "source": [
    "# Applying the sparse vector technique to our differentially private statistics\n",
    "# This will have to be done for each column in BILL_AMT1-6 and PAY_AMT1-6\n",
    "# Takes a long time to run, but generates the correct b values!\n",
    "def sparse_vector_averages(col):\n",
    "    # preserves epsilon-differential privacy\n",
    "    def above_threshold(queries, df, T, epsilon):\n",
    "        T_hat = T + np.random.laplace(loc=0, scale = 2/epsilon)   \n",
    "        for idx, q in enumerate(queries):\n",
    "            nu_i = np.random.laplace(loc=0, scale = 4/epsilon)\n",
    "            if q(df) + nu_i >= T_hat:\n",
    "                return idx\n",
    "        # if the algorithm \"fails\", return a random index \n",
    "        # more convenient in certain use cases    \n",
    "        return random.randint(0,len(queries)-1)\n",
    "    \n",
    "    df = cc_default_db[col]\n",
    "    # Construct the stream of queries, the more the better even though this has a huge impact on runtime\n",
    "    bs = range(1,150000,10)\n",
    "    queries = [lambda df: df.clip(lower=0, upper=b).sum() - df.clip(lower=0, upper=b+1).sum() for b in bs]\n",
    "\n",
    "    # Run AboveThreshold, using 1/3 of the privacy budget, to find a good clipping parameter\n",
    "    epsilon_svt = epsilon / 3\n",
    "    final_b = bs[above_threshold(queries, df, 0, epsilon_svt)]\n",
    "\n",
    "    # Compute the noisy sum and noisy count, using 1/3 of the privacy budget for each\n",
    "    epsilon_sum = epsilon / 3\n",
    "    epsilon_count = epsilon / 3\n",
    "\n",
    "    noisy_sum = laplace_mech(df.clip(lower=0, upper=final_b).sum(), final_b, epsilon_sum)\n",
    "    noisy_count = laplace_mech(len(df), 1, epsilon_count)\n",
    "    noisy_average = noisy_sum / noisy_count\n",
    "\n",
    "    # Add those statistics to the respective column\n",
    "    return [noisy_sum, noisy_average]\n",
    "\n",
    "def dp_averages(col):\n",
    "    s = cc_default_db[col]\n",
    "    bs = [10**n for n in range(10)]\n",
    "    n = len(bs)\n",
    "\n",
    "    epsilon_i = epsilon / (n+1)\n",
    "\n",
    "    noisy_count = laplace_mech(len(s), 1, epsilon_i)\n",
    "    last_value = -1000\n",
    "    for b in bs:\n",
    "        noisy_sum = laplace_mech(s.clip(lower=0, upper=b).sum(), b, epsilon_i)\n",
    "        noisy_avg = noisy_sum / noisy_count\n",
    "\n",
    "        if abs(noisy_avg - last_value) < .01*b:\n",
    "            return [noisy_sum, last_value]\n",
    "        else:\n",
    "            last_value = noisy_avg\n",
    "    \n",
    "    return [-1, last_value]\n",
    "\n",
    "# Just use classic DP for counts of other columns\n",
    "# Using the lambda function to preserve the pandas data frame\n",
    "f = lambda x: x + np.random.laplace(loc=0, scale=1/epsilon)        \n",
    "\n",
    "def limit_bal_counts():\n",
    "    return cc_default_db['LIMIT_BAL'].value_counts().apply(f)\n",
    "\n",
    "def sex_counts():\n",
    "    return cc_default_db['SEX'].value_counts().apply(f)\n",
    "\n",
    "def dp_education_counts():\n",
    "    return cc_default_db['EDUCATION'].value_counts().apply(f)\n",
    "    \n",
    "def marriage_counts():\n",
    "    return cc_default_db['MARRIAGE'].value_counts().apply(f)\n",
    "    \n",
    "def age_counts():\n",
    "    return cc_default_db['AGE'].value_counts().apply(f)\n",
    "\n",
    "def pay_counts():\n",
    "    counts = {}\n",
    "    for i in range(1,7):\n",
    "        col = 'PAY_' + str(i)\n",
    "        counts[col] = cc_default_db[col].value_counts().apply(f)\n",
    "    return counts"
   ]
  },
  {
   "cell_type": "markdown",
   "id": "4de10018",
   "metadata": {},
   "source": [
    "## Calculating non DP statistics\n",
    "In order to compare and show how adding noise affects the queries"
   ]
  },
  {
   "cell_type": "code",
   "execution_count": 18,
   "id": "51480278",
   "metadata": {},
   "outputs": [],
   "source": [
    "# Counting queries for every row\n",
    "col_counts = {}\n",
    "for col in cc_default_db.columns:\n",
    "    if col != 'ID': # Skip the ID column for obvious reasons\n",
    "        col_counts[col] = cc_default_db[col].value_counts()\n",
    "        \n",
    "col_sums = {}\n",
    "for col in cc_default_db.columns:\n",
    "    if col != 'ID':\n",
    "        col_sums[col] = cc_default_db[col].sum()\n",
    "\n",
    "col_averages = {}\n",
    "for col in cc_default_db.columns:\n",
    "    if col != 'ID':\n",
    "        col_averages[col] = cc_default_db[col].mean()"
   ]
  },
  {
   "cell_type": "markdown",
   "id": "4bc53a0a",
   "metadata": {},
   "source": [
    "## Format data to not be so clunky\n",
    "### ...Merge all the columns that have `\"_#\"`\n",
    "This is just signifying month to month data and it is going to be easier to work with if they are centralized to one column for PAY, BILL_AMT,and PAY_AMT"
   ]
  },
  {
   "cell_type": "code",
   "execution_count": 19,
   "id": "374a3e47",
   "metadata": {},
   "outputs": [],
   "source": [
    "# Generate column names\n",
    "merge_cols = []\n",
    "for comb_col in ['PAY', 'BILL_AMT', 'PAY_AMT']:\n",
    "    comb_row = []\n",
    "    for i in range(1,7):\n",
    "        if comb_col == 'PAY':\n",
    "            comb_row.append(comb_col + '_' + str(i))\n",
    "        else:\n",
    "            comb_row.append(comb_col + str(i))\n",
    "    merge_cols.append(comb_row)"
   ]
  },
  {
   "cell_type": "code",
   "execution_count": 20,
   "id": "bb8246ac",
   "metadata": {},
   "outputs": [],
   "source": [
    "fresh_cols = []\n",
    "for col in merge_cols:\n",
    "    new_row = []\n",
    "    for row in range(len(cc_default_db)):\n",
    "        new_col = []\n",
    "        for sub_col in col:\n",
    "            new_col.append(cc_default_db[sub_col][row])\n",
    "        new_row.append(new_col)\n",
    "    fresh_cols.append(new_row)"
   ]
  },
  {
   "cell_type": "code",
   "execution_count": 21,
   "id": "140c6d04",
   "metadata": {},
   "outputs": [],
   "source": [
    "# Apply what we did above\n",
    "for subcol in merge_cols:\n",
    "    for c in subcol:\n",
    "        cc_default_db.drop(c, axis=1, inplace=True)\n",
    "cc_default_db['PAY'], cc_default_db['BILL_AMT'], cc_default_db['PAY_AMT'] = [fresh_cols[0], fresh_cols[1], fresh_cols[2]]"
   ]
  },
  {
   "cell_type": "markdown",
   "id": "5c7c5bf7",
   "metadata": {},
   "source": [
    "## Comparing Differentially Private and non DP statistics\n",
    "This will involve looking at the differences in the histograms for the LIMIT_BAL and AGE columns. While the percent error will be contrasted between the BAL_AMT and PAY_AMT statistics. "
   ]
  },
  {
   "cell_type": "code",
   "execution_count": 38,
   "id": "28c3f00e",
   "metadata": {},
   "outputs": [
    {
     "data": {
      "image/png": "iVBORw0KGgoAAAANSUhEUgAAAiMAAAGYCAYAAACQz+KaAAAAOXRFWHRTb2Z0d2FyZQBNYXRwbG90bGliIHZlcnNpb24zLjYuMCwgaHR0cHM6Ly9tYXRwbG90bGliLm9yZy89olMNAAAACXBIWXMAAA9hAAAPYQGoP6dpAAAwB0lEQVR4nO3de1xVVf7/8Tei4C3xCqljOGmYFwLEMBN/pVg6XrKwxsaxtPLShDl9R7uYNVlWmlj5TbMwS/tm5ZQmpXbTzMyyNBwQNUMsDe/wMC3lpof1+4M4xyOXQM9hCbyej4eP6ay999prf1zCe/bZFx9jjBEAAIAltWwPAAAA1GyEEQAAYBVhBAAAWEUYAQAAVhFGAACAVYQRAABgFWEEAABYRRgBAABW1bax09OnT+v48ePy9/dXrVrkIQAAqoKCggLl5eUpICBAtWt7LkJYCSPHjx/Xnj17bOwaAACcp7Zt26pZs2Ye689KGPH395dUeDD16tXzyj4cDofS0tIUEhIiX19fr+yjKqAOLtTChVq4UItC1MGFWricXYucnBzt2bPH+XvcU6yEkaKvZurVq6f69et7ZR8Oh0OSVL9+/Ro9maiDC7VwoRYu1KIQdXChFi6l1cLTl1hwwQYAALCKMAIAAKwijAAAAKsIIwAAwCrCCAAAsIowAgAArCKMAAAAqwgjAADAKsIIAACwijACAACssvI4eACoido+tKpS97dnxsAKrT98+HANHDhQzz33nFv7e++9p7lz52rt2rXOtiNHjmjOnDn6/PPP9euvv6pNmzaKjY3VyJEjnW9z/fbbb3X77bfriSee0LBhw9z6fOihhyRJM2bMKDaOou2K+Pr6qnHjxoqOjtYDDzyg5s2bS5L27dunmJgYt239/f3VuXNn3X333brmmmtK7fuHH34osQbvvfee5syZo1mzZkmS+vTpo/3792vx4sW68sor3dZdv369xowZo5tuukkzZsxwjuezzz7T/v373Y7hbEXblOW9997T5MmTnZ9r166tNm3a6O6779aNN95YbP05c+Zo7ty5WrRokXr06OG2rE+fPho/frxiY2PL3KcthBEAgNOqVat0yy23FPtldqaDBw/q1ltv1aWXXqrZs2crKChIqampmjVrlr755hslJCS4vbvkueee03XXXaemTZtWaCwbNmyQJJ0+fVoZGRmaOXOmRo4cqXfffdftvWbvvvuuWrZsKUnKzc3V66+/rri4OH344Ye65JJLKrTPktSpU0dr164tFkbWrFkjHx+fEreJiIhwjl+SoqOjNWfOHEVEREiS6tatW659X3zxxVq6dKkkKS8vT5s2bdIjjzyi4OBgZ19FVq5cqUsuuUSJiYll/v1diPiaBgDg1Lp1az3xxBPKz88vdZ1p06apTZs2WrBggbp166Y2bdpowIABWrx4sb777ju9/fbbbus3aNBA8fHxFR5LixYt1KJFC7Vs2VJRUVGaP3++MjMztWTJErf1mjZt6ly3TZs2evDBB+Xn5+d2Jud8dOvWrVhfxhitXbtW4eHhJW7j5+fnHFOLFi0kSQEBAc7PF110Ubn27evr69zmT3/6k2JjY9W9e3d9/PHHbutt375dP//8s/7xj3/o008/1cmTJyt+oBYRRgAAThMmTNDhw4f16quvlrg8KytLa9eu1ZgxY4q90bZVq1aKjY3VO++849Y+ZcoULV++XElJSec1tqZNm6pv375avXp1mesVfU1Up06d89pfkWuvvVb79u3T7t27nW3JyckKCAhQ27ZtPbKPiijpbfcrV67U5Zdfrn79+unUqVP69NNPK31c56N6fk3z1jDVMka/7DyizxNtD6Z8Rp+6X1LFv+MFAE8KCgrShAkT9Pzzz2vQoEFq06aN2/Lt27fLGKPQ0NASt4+MjNTixYvdzqzExMSod+/emjp1qpYvX+4MC+eiffv2WrNmTanLT548qYSEBJ06dUq9evU65/2cqVGjRoqMjNTatWvVrl07SdLq1avVt29fHT582CP7KK+kpCR9/fXXWrhwobPNGKOPPvpIsbGxatCggXr06KHly5frpptuqtSxnQ/OjAAA3Nx2220KDg7WU089VWzZ8ePHJRX+gi5JUfuxY8fc2h955BFlZGTo9ddfP6+xXXTRRcW+ghg0aJAiIiIUHh6url27KjExUdOnT/fI9SJFYmJi3L6q+eyzz9S3b1+P9V+aAwcOKCIiQhEREerSpYuGDx+unj17qlOnTs51kpKSdPDgQed4rr/+em3atEn79+/3+vg8hTACAHDj6+urqVOnat26dcXOQgQEBEgq/LqmJEeOHJEkNW7c2K29devWuueeezR37lwdOnTonMd24sQJNWzY0K1t/vz5SkxM1AcffKCvvvpK69ev16BBg855HyWJiYlRSkqKjh49qvT0dOXl5ZV6dsiTAgMDlZiYqMTERL3//vt68cUXtWPHDj366KPOdVatWqXWrVs7A0pMTIx8fHz0/vvve318nkIYAQAU07VrVw0dOlRPPfWUcnJynO2hoaHy9fXVtm3bStxu27Zt6tChg/z8/Iotu+OOO9SyZcsSz7iU1w8//KDLLrvMra1Vq1YKDg7WJZdc4rzt19P+9Kc/qX379s6AVhlnRaTC61+Cg4MVHBysdu3aqW/fvrrvvvu0fPlynThxQg6HQx9//LEOHDigTp06qVOnToqOjlZBQQFhBABQ9U2aNEnZ2dluF7MWXUQ6b948ORwOt/UPHjyopUuX6q9//WuJ/dWpU0ePPfaYPv30U23atKnC4zl27JjWrFmj/v37V3hbT4iJidG6desq7Sua0hhjZIxRQUGBNm7cqKNHj+qFF15wnkFJTEzUQw89pD179mjLli3WxlkR1fMCVgDAeWvSpIkmTZqkRx55RK1bt3a2T5kyRcOHD9eYMWN0zz33qFWrVtq+fbtmzpypqKgoDR8+vNQ+u3fvrhtuuEEffPDBH+4/MzNTUuFzRvbs2aP4+Hi1bNlSt9xyy3kf2/r1690++/v7q3v37mVuExMTo0WLFsnf37/YM0e8xeFwOOtgjNHPP/+sefPmKTo6Wo0aNdKqVat02WWX6frrr3fbLjg4WC+//LISExPVtWtXSVJaWlqx4w4NDVWTJk0q5VjKQhgBgEpSFe+Wu/nmm7Vs2TLntSBS4R0377zzjubNm6dJkybp6NGjatOmjW699VaNHDnS7YFnJXnwwQe1bt26P9x3dHS0pMIzKhdffLF69+6tf/zjH/L39z+vY5KkMWPGuH0OCgoq9ov6bF26dFGjRo3Uo0ePYrc1e8uhQ4ecdahVq5YaN26svn376n/+53+Un5+v1atXa/z48cW28/f3V2xsrJYuXaopU6ZIkhYuXOh2F05R29VXX+39A/kDPsYYU9k7zc7O1vfff6+OHTuWeL/0eXtrmIwx+mznkT9e9wLhrVt7HQ6HkpOTFR4eXmn/eC5U1MKFWrhQi0LUwYVauJxdC2/9/uaaEQAAYFWFv6Yp6ZRQv3799MILL2jHjh167LHHlJaWpvbt2+vxxx9Xly5dPDZYAACqg08++cT5ssCSREZGasGCBZU4IrsqHEbS09PVu3dvTZs2zdnm7++v7OxsjR07VoMHD9aMGTP09ttva9y4cVq9erV3vooBAKCKio6OVmJiYqnLy/siveqiwmFk9+7dCgkJcb74p8jSpUvl7++vBx54QD4+PpoyZYrWr1+vjz/++IJ9ZTEAADY0aNBADRo0sD2MC0aFrxnZvXt3iS8GSklJUWRkpPN1yj4+PuratauSk5PPd4wAAKAaq9CZEWOMfvrpJ23YsEEJCQlyOBzq37+/JkyYoMzMTLVv395t/WbNmmnXrl2l9udwOIo9NMcTav3+QJiqyNP1KOrPG3WuaqiFC7VwoRaFqIMLtXA5uxbeqkmFwsiBAweUk5MjPz8/zZ49W/v27dOTTz6p3NxcZ/uZ/Pz83N7ceLa0tLRzG/UfaPfrca/0Wxm8dSYpNTXVK/1WRdTChVq4UItC1MGFWrh4uxYVCiOtW7fWt99+q4CAAPn4+Khjx44qKCjQ/fffr6ioqGLBIz8/v8yLcEJCQrxycWutnQG/nxnJ9Hjf3hYeHu7R/hwOh1JTU53vk6jJqIULtXChFoWogwu1cDm7FtnZ2V45kVDhC1jPfhNju3btlJeXpxYtWhR7i2NWVpYCAwNL7cvX19c7f9G/X7dSFXlr4nut1lUQtXChFi7UohB1cKEWLkW18FY9KhRGvvzyS02aNEnr1q1TvXr1JEnff/+9GjdurMjISL3yyisyxsjHx0fGGG3ZskV33323VwYOAFXOW8Mqd3/D/1Oh1SdMmOD8P5U+Pj6qV6+eOnTooLi4OPXq1cu53m233eb2ojtfX19dfPHFGjJkiO655x7VqVOnWN99+vTR+PHjS727skOHDvq///s/de/eXXPmzNHcuXMVGxur6dOnu61njFGvXr2UmZmpH374wTmeqKgo3XvvverTp4/2799f6jEWbVOWTp06uX1u0qSJ+vbtq8mTJxe7AyYjI0N9+/bVDTfcoPj4eLdlc+bM0aZNm/TGG2/84T5rugqFkYiICPn7++uRRx5RXFycMjIyNHPmTI0ePVr9+/fXs88+q6eeekq33nqrlixZopycHP3lL3/x1tgBAB42efJkDRw4UAUFBTp+/LgSExM1btw4LViwwO0dJnfeeafuvPNOSVJBQYG2b9+uiRMnytfXt8R3pVRUnTp19MUXX6igoMDtXTfJycnFzsKfaenSpc6LLJ966ilJcr6bpSLuu+8+3XTTTfLx8dHBgwf173//WzNnztTjjz/utt6HH36oSy65RGvWrNHJkye5XfccVejW3oYNG+rVV1/V0aNHNXToUE2ZMkXDhg3T6NGj1bBhQyUkJCgpKUmxsbFKSUnR/PnzeeAZAFQhDRs2VIsWLRQUFKSQkBA98MADGjhwYLEzFPXr11eLFi2c6/bp00eDBw/W6tWrPTKOTp06KScnp9hF/WvWrCnz2rqmTZs6x1W3bl3VrVvX+fns52OV5cw6hIeHa9y4cfroo4+Krbdy5UqNGDFCderU0SeffFLu/uGuwteMXHbZZcXe+lfkiiuu0PLly897UACAC8ewYcP097//XXv37lVwcHCp69WuXbvEr2jOhb+/v6Kjo7V27Vp17drV2b5mzRrdcsst+u9//+uR/ZRX0aUJZ0pPT1daWpq6d++urVu3avny5Tzk8xzxojwAQJnatWsnqfCXb0kcDoc2bdqkFStWKCYmxmP7jYmJ0dq1a52f09PTlZubW+nvPDt69KjeeOMN3XDDDW7tK1euVOvWrXX55ZcrJiZGmzdvLvN6FZSOMAIAKNNFF10kSTp58qSzLSEhQREREYqIiFBoaKjuuusu9e3bV3fddZfH9nvNNddoz5492rt3r6TCsyIxMTHOJ3170zPPPKPIyEiFh4erR48e2rFjh2677Ta3dT788EP16dPHOVY/P78y3zeD0lX4axoAQM1y4sQJSYXXURS59dZbnb+c69Spo+bNmxd78OX5atKkiSIjI7V27VrdcccdWrNmjSZOnOjRfZRmzJgxGjx4sGrVqqVffvlFixcv1t/+9jetWLFCzZo109atW7V371717dtXUuG7Zq6++mq9//77iouLq5QxVieEEQBAmYpuh73sssucbQEBAWVeP+IpMTEx+uyzzzRgwABlZGToyiuvVFJSktf327RpUwUHB8vX11dt27ZV586d1b17d3300UcaMWKEVq1aJUnOO4qkwruKjDFKSkpSZGSk18dYnRBGAABlWrZsmTp37qw2bdpU+r5jYmIUHx+v5cuX69prr1Xt2nZ+bdWqVUvGGDkcDhUUFOijjz7SkCFDNHr0aOc6DodDI0aMUGJiImGkgggjAACnEydOKDMzU8YY/fLLL1q6dKk+/PBDvfbaa+fdd1pamtavX+/WFhoaqiZNmpS6TZs2bXTppZdq/vz5mjlz5nmPobyK6uDr66uTJ0/qtddek8PhUJ8+ffTdd9/p8OHDuu222xQSEuK23Q033KAVK1bokUcekSQdO3as2DEHBgbq8ssvr7RjqQoIIwBQWSr4RFQbpk+frunTp8vHx0dNmzZVp06dtGjRInXr1u28+164cGGxR0MsXLjQ7WFqJenTp48WLVqknj17nvcYymv27NmaPXu2pMLbert06aJXXnlFbdq00SuvvKIOHTooNDS02HZ/+9vf9NZbb2nNmjWSCgPYmDFj3NYZPHiwZs2a5fVjqEp8TOEb5SpVdna2vv/+e3Xs2NE7D0V7a5iMMfps5xHP9+0lo0/dL0naM2OgR/t1OBxKTk5WeHh4jX/HArVwoRYu1KIQdXChFi5n18Jbv7+5tRcAAFjF1zQAgBqje/fuys/PL3X5qlWrFBQUVIkjgkQYAQDUIEuXLlVBQUGpywMDAytxNChCGAEA1BjluT256K2/qDxcMwIAAKwijAAAAKsIIwAAwCrCCAAAsIowAgAArCKMAAAAqwgjAADAKsIIAACwijACAACsIowAAACrCCMAAMAqwggAALCKMAIAAKwijAAAAKsIIwAAwCrCCAAAsIowAgAArCKMAAAAqwgjAADAKsIIAACwijACAACsIowAAACrCCMAAMAqwggAALCKMAIAAKwijAAAAKsIIwAAwCrCCAAAsIowAgAArCKMAAAAqwgjAADAKsIIAACwijACAACsIowAAACrCCMAAMAqwggAALCKMAIAAKwijAAAAKsIIwAAwCrCCAAAsIowAgAArCKMAAAAqwgjAADAqnMOI2PHjtVDDz3k/Lxjxw7dcsstCgsL09ChQ7Vt2zaPDBAAAFRv5xRGVq1apS+++ML5OTs7W2PHjlW3bt303nvvKSIiQuPGjVN2drbHBgoAAKqnCoeRY8eOaebMmQoNDXW2ffjhh/L399cDDzygdu3aacqUKWrQoIE+/vhjjw4WAABUPxUOI88884yGDBmi9u3bO9tSUlIUGRkpHx8fSZKPj4+6du2q5ORkjw0UAABUT7UrsvLGjRv13XffacWKFZo6daqzPTMz0y2cSFKzZs20a9euMvtzOBxyOBwVGUK51DJGxhiP91sZPF2Pov68Ueeqhlq4UAsXalGIOrhQC5eza+GtmpQ7jOTl5emxxx7Tv//9b9WtW9dtWU5Ojvz8/Nza/Pz8lJ+fX2afaWlpFRhq+bX79bhX+q0M3jqblJqa6pV+qyJq4UItXKhFIergQi1cvF2LcoeRuXPnqkuXLurVq1exZf7+/sWCR35+frHQcraQkBDVr1+/vEMot1o7A34/M5Lp8b69LTw83KP9ORwOpaamKjQ0VL6+vh7tu6qhFi7UwoVaFKIOLtTC5exaZGdne+VEQrnDyKpVq5SVlaWIiAhJcoaPTz75RIMGDVJWVpbb+llZWQoMDCyzT19fX+/8Rf9+7UpV5K2J77VaV0HUwoVauFCLQtTBhVq4FNXCW/Uodxh54403dPr0aefnWbNmSZImTZqkzZs365VXXpExRj4+PjLGaMuWLbr77rs9P2IAAFCtlDuMtG7d2u1zgwYNJEnBwcFq1qyZnn32WT311FO69dZbtWTJEuXk5Ogvf/mLZ0cLAACqHY88Dr5hw4ZKSEhQUlKSYmNjlZKSovnz53vlehAAAFC9VOjW3jPNmDHD7fMVV1yh5cuXn/eAAABAzcKL8gAAgFWEEQAAYBVhBAAAWEUYAQAAVhFGAACAVYQRAABgFWEEAABYRRgBAABWEUYAAIBVhBEAAGAVYQQAAFhFGAEAAFYRRgAAgFWEEQAAYBVhBAAAWEUYAQAAVhFGAACAVYQRAABgFWEEAABYRRgBAABWEUYAAIBVhBEAAGAVYQQAAFhFGAEAAFYRRgAAgFWEEQAAYBVhBAAAWEUYAQAAVhFGAACAVYQRAABgFWEEAABYRRgBAABWEUYAAIBVhBEAAGAVYQQAAFhFGAEAAFYRRgAAgFWEEQAAYBVhBAAAWEUYAQAAVhFGAACAVYQRAABgFWEEAABYRRgBAABWEUYAAIBVhBEAAGAVYQQAAFhFGAEAAFYRRgAAgFWEEQAAYBVhBAAAWEUYAQAAVhFGAACAVYQRAABgFWEEAABYRRgBAABWVTiM7N27V3fddZciIiJ07bXXasGCBc5lGRkZGjVqlMLDwzVgwABt2LDBo4MFAADVT4XCSEFBgcaOHasmTZpo+fLlevzxx/XSSy9pxYoVMsYoLi5OzZs317JlyzRkyBCNHz9eBw4c8NbYAQBANVC7IitnZWWpY8eOmjp1qho2bKi2bduqR48eSkpKUvPmzZWRkaElS5aofv36ateunTZu3Khly5bp3nvv9db4AQBAFVehMyOBgYGaPXu2GjZsKGOMkpKStHnzZkVFRSklJUWdOnVS/fr1netHRkYqOTnZ02MGAADVSIXOjJypT58+OnDggHr37q1+/frp6aefVmBgoNs6zZo106FDh0rtw+FwyOFwnOsQSlXLGBljPN5vZfB0PYr680adqxpq4UItXKhFIergQi1czq6Ft2pyzmHkhRdeUFZWlqZOnarp06crJydHfn5+buv4+fkpPz+/1D7S0tLOdfdlavfrca/0Wxm8dSYpNTXVK/1WRdTChVq4UItC1MGFWrh4uxbnHEZCQ0MlSXl5eZo0aZKGDh2qnJwct3Xy8/NVt27dUvsICQlx+1rHU2rtDPj9zEimx/v2tvDwcI/253A4lJqaqtDQUPn6+nq076qGWrhQCxdqUYg6uFALl7NrkZ2d7ZUTCRW+gDU5OVl9+/Z1trVv316nTp1SixYt9OOPPxZb/+yvbs7k6+vrnb9oHx/P91lJvDXxvVbrKohauFALF2pRiDq4UAuXolp4qx4VuoB13759Gj9+vA4fPuxs27Ztm5o2barIyEht375dubm5zmVJSUkKCwvz3GgBAEC1U6EwEhoaqs6dO+vhhx9Wenq6vvjiC8XHx+vuu+9WVFSUWrZsqcmTJ2vXrl2aP3++tm7dqptvvtlbYwcAANVAhcKIr6+v5s2bp3r16mnYsGGaMmWKbrvtNt1+++3OZZmZmYqNjdUHH3ygF198Ua1atfLW2AEAQDVQ4QtYg4KCNHfu3BKXBQcHa/Hixec9KAAAUHPwojwAAGAVYQQAAFhFGAEAAFYRRgAAgFWEEQAAYBVhBAAAWEUYAQAAVhFGAACAVYQRAABgFWEEAABYRRgBAABWEUYAAIBVhBEAAGAVYQQAAFhFGAEAAFYRRgAAgFWEEQAAYBVhBAAAWEUYAQAAVhFGAACAVYQRAABgFWEEAABYRRgBAABWEUYAAIBVhBEAAGAVYQQAAFhFGAEAAFYRRgAAgFWEEQAAYBVhBAAAWEUYAQAAVhFGAACAVYQRAABgFWEEAABYRRgBAABWEUYAAIBVhBEAAGAVYQQAAFhFGAEAAFYRRgAAgFWEEQAAYBVhBAAAWEUYAQAAVhFGAACAVYQRAABgFWEEAABYRRgBAABWEUYAAIBVhBEAAGAVYQQAAFhFGAEAAFYRRgAAgFWEEQAAYBVhBAAAWEUYAQAAVhFGAACAVRUKI4cPH9aECRMUFRWlXr16afr06crLy5MkZWRkaNSoUQoPD9eAAQO0YcMGrwwYAABUL+UOI8YYTZgwQTk5OXrzzTf1/PPP6/PPP9fs2bNljFFcXJyaN2+uZcuWaciQIRo/frwOHDjgzbEDAIBqoHZ5V/zxxx+VnJysr776Ss2bN5ckTZgwQc8884z+3//7f8rIyNCSJUtUv359tWvXThs3btSyZct07733em3wAACg6iv3mZEWLVpowYIFziBS5MSJE0pJSVGnTp1Uv359Z3tkZKSSk5M9NlAAAFA9lfvMSKNGjdSrVy/n54KCAi1evFhXXXWVMjMzFRgY6LZ+s2bNdOjQoTL7dDgccjgcFRzyH6tljIwxHu+3Mni6HkX9eaPOVQ21cKEWLtSiEHVwoRYuZ9fCWzUpdxg5W3x8vHbs2KGlS5dq0aJF8vPzc1vu5+en/Pz8MvtIS0s7192Xqd2vx73Sb2Xw1tmk1NRUr/RbFVELF2rhQi0KUQcXauHi7VqcUxiJj4/X66+/rueff14hISHy9/fXsWPH3NbJz89X3bp1y+wnJCTE7asdT6m1M+D3MyOZHu/b28LDwz3an8PhUGpqqkJDQ+Xr6+vRvqsaauFCLVyoRSHq4EItXM6uRXZ2tldOJFQ4jEybNk1vv/224uPj1a9fP0lSUFCQ0tPT3dbLysoq9tXN2Xx9fb3zF+3j4/k+K4m3Jr7Xal0FUQsXauFCLQpRBxdq4VJUC2/Vo0LPGZk7d66WLFmi5557TgMHDnS2h4WFafv27crNzXW2JSUlKSwszHMjBQAA1VK5w8ju3bs1b948jRkzRpGRkcrMzHT+iYqKUsuWLTV58mTt2rVL8+fP19atW3XzzTd7c+wAAKAaKPfXNJ999pkcDodeeuklvfTSS27LfvjhB82bN09TpkxRbGysgoOD9eKLL6pVq1YeHzAAAKheyh1Gxo4dq7Fjx5a6PDg4WIsXL/bIoAAAQM3Bi/IAAIBVhBEAAGAVYQQAAFhFGAEAAFYRRgAAgFWEEQAAYBVhBAAAWEUYAQAAVhFGAACAVYQRAABgFWEEAABYRRgBAABWEUYAAIBVhBEAAGAVYQQAAFhFGAEAAFYRRgAAgFWEEQAAYBVhBAAAWEUYAQAAVhFGAACAVYQRAABgFWEEAABYRRgBAABWEUYAAIBVhBEAAGAVYQQAAFhFGAEAAFYRRgAAgFWEEQAAYBVhBAAAWEUYAQAAVhFGAACAVYQRAABgFWEEAABYRRgBAABWEUYAAIBVhBEAAGAVYQQAAFhFGAEAAFYRRgAAgFWEEQAAYBVhBAAAWEUYAQAAVhFGAACAVYQRAABgFWEEAABYRRgBAABWEUYAAIBVhBEAAGAVYQQAAFhFGAEAAFYRRgAAgFWEEQAAYFVt2wNAoQV14iVJax6N90r/nyd6vs/Rp+73fKeVYHe47REAAM50zmdG8vPzNWjQIH377bfOtoyMDI0aNUrh4eEaMGCANmzY4JFBAgCA6uucwkheXp7+9a9/adeuXc42Y4zi4uLUvHlzLVu2TEOGDNH48eN14MABjw0WAABUPxX+miY9PV0TJ06UMcat/ZtvvlFGRoaWLFmi+vXrq127dtq4caOWLVume++912MDBgAA1UuFz4xs2rRJ3bt313/+8x+39pSUFHXq1En169d3tkVGRio5Ofm8BwkAAKqvCp8ZGT58eIntmZmZCgwMdGtr1qyZDh06VGpfDodDDoejokP4Q7WMKXbmBijijTlX1RTVgFpQiyLUwYVauJxdC2/VxGN30+Tk5MjPz8+tzc/PT/n5+aVuk5aW5qndu2n363Gv9At3RXcAVSWjT92v1NRU28O4YFALF2pRiDq4UAsXb9fCY2HE399fx44dc2vLz89X3bp1S90mJCTE7WsdT6m1M+D3MyOZHu8bVV9oaKh8fX1tD8Mqh8Oh1NRUaiFqUYQ6uFALl7NrkZ2d7ZUTCR4LI0FBQUpPT3dry8rKKvbVzZl8fX298xft4+P5PlFteG3eVUHUwoVaFKIOLtTCpagW3qqHx57AGhYWpu3btys3N9fZlpSUpLCwME/tAgAAVEMeCyNRUVFq2bKlJk+erF27dmn+/PnaunWrbr75Zk/tAgAAVEMeCyO+vr6aN2+eMjMzFRsbqw8++EAvvviiWrVq5aldAACAaui8rhn54Ycf3D4HBwdr8eLF5zUgAABQs/DWXgAAYBVhBAAAWEUYAQAAVhFGAACAVYQRAABgFWEEAABYRRgBAABWEUYAAIBVhBEAAGAVYQQAAFhFGAEAAFYRRgAAgFWEEQAAYBVhBAAAWEUYAQAAVhFGAACAVYQRAABgFWEEAABYRRgBAABWEUYAAIBVhBEAAGAVYQQAAFhFGAEAAFYRRgAAgFWEEQAAYBVhBAAAWEUYAQAAVhFGAACAVYQRAABgFWEEAABYRRgBAABWEUYAAIBVhBEAAGAVYQQAAFhFGAEAAFYRRgAAgFWEEQAAYBVhBAAAWEUYAQAAVhFGAACAVYQRAABgVW3bAwAq04I68aq15HXJx8f2UCpkzfeHvdLv54le6VajT92vPTMGeqdzANUOZ0YAAIBVhBEAAGAVYQQAAFhFGAEAAFYRRgAAgFWEEQAAYBW39qLG+WznEdtDAACcgTMjAADAKsIIAACwijACAACsIowAAACrCCMAAMAq7qYB4HEL6sRrzaPxtodRIe3e5eV+KMVbw7z2skpvGH3qfkmqUvOZMyMAAMAqj4aRvLw8Pfzww+rWrZuio6P12muvebJ7AABQDXn0a5qZM2dq27Ztev3113XgwAE9+OCDatWqlfr37+/J3QAAgGrEY2EkOztb7777rl555RV17txZnTt31q5du/Tmm28SRgAAQKk89jXNzp07dfr0aUVERDjbIiMjlZKSooKCAk/tBgAAVDMeOzOSmZmpJk2ayM/Pz9nWvHlz5eXl6dixY2ratKmzvSicnDx5Ug6Hw1NDcKrlFygjI9+AOh7vG0D19OfTtfXbb7/ZHoY1RT+XT5w4oVq1ava9DWfXopZfoHwDqs7Np38+XThWT8zns2uRm5vr1u4pHqtuTk6OWxCR5Pycn5/v1p6XlydJ+vnnnz21e3d/HiVJavRn73QPoPqZJSktLc32MKxLT0+3PYQLhrMWfx5VpX6fzPr9fz05n8+eF3l5eWrYsKHH+vdYGPH39y8WOoo+161b1609ICBAbdu2lb+/f41P4AAAVBUFBQXKy8tTQECAR/v1WBgJCgrSL7/8otOnT6t27cJuMzMzVbduXTVq1Mh9p7Vrq1mzZp7aNQAAqCSePCNSxGOnJTp27KjatWsrOTnZ2ZaUlKTQ0FDOfgAAgFJ5LCXUq1dPN954o6ZOnaqtW7dqzZo1eu2113T77bd7ahcAAKAa8ugpi8mTJ6tz584aOXKkHn/8cd177726/vrrPbmLP1STngK7evVqdejQwe3PhAkTJEk7duzQLbfcorCwMA0dOlTbtm1z23blypXq27evwsLCFBcXp6NHj9o4hPOWn5+vQYMG6dtvv3W2ZWRkaNSoUQoPD9eAAQO0YcMGt22+/vprDRo0SGFhYbr99tuVkZHhtnzRokXq1auXIiIi9PDDDysnJ6dSjuV8lVSLJ598stgcWbx4sXN5WfPAGKNZs2bpqquuUlRUlGbOnHnB36Z/+PBhTZgwQVFRUerVq5emT5/uvGC+Js2LsupQ0+bE3r17dddddykiIkLXXnutFixY4FxWk+aEVHYtrM8LU8088cQTZvDgwWbbtm3m008/NREREeajjz6yPSyvmDdvnhk3bpw5cuSI88/x48fNyZMnTc+ePc2MGTNMenq6mTZtmrn66qvNyZMnjTHGpKSkmCuuuMIsX77cfP/992bEiBFm7Nixlo+m4nJzc01cXJwJCQkx33zzjTHGmIKCAjN48GAzceJEk56ebl5++WUTFhZm9u/fb4wxZv/+/SY8PNy8+uqrJi0tzfzzn/80gwYNMgUFBcYYYz7++GMTGRlp1q5da1JSUsyAAQPM448/bu0Yy6ukWhhjzKhRo0xCQoLbHMnOzjbG/PE8ePXVV80111xjNm/ebDZu3Giio6PNggULKv3YyqugoMD89a9/NaNHjzZpaWlm8+bN5rrrrjMzZsyoUfOirDoYU7PmhMPhMNdff72ZOHGi+emnn8y6detM165dzQcffFCj5oQxZdfCGPvzolqFkZMnT5rQ0FC3H8YvvviiGTFihMVRec/EiRPNs88+W6z93XffNX369HH+oykoKDDXXXedWbZsmTHGmPvvv988+OCDzvUPHDhgOnToYH7++efKGbgH7Nq1y9xwww1m8ODBbr+Av/76axMeHu4MXsYYM3LkSPPCCy8YY4yZPXu223zIzs42ERERzu2HDx/uXNcYYzZv3myuuOIK5z/KC1FptTDGmF69epkvv/yyxO3+aB5cc801zjljjDGJiYmmd+/eXjqK85eenm5CQkJMZmams23FihUmOjq6Rs2LsupgTM2aE4cPHzb//Oc/zW+//eZsi4uLM4899liNmhPGlF0LY+zPi2p1ZWlNewrs7t271bZt22LtKSkpioyMlI+PjyTJx8dHXbt2dV5cnJKSom7dujnXb9mypVq1aqWUlJTKGLZHbNq0Sd27d9d//vMft/aUlBR16tRJ9evXd7ZFRkaWeuz16tVT586dlZycLIfDodTUVLfl4eHhOnXqlHbu3OndAzoPpdXixIkTOnz4cIlzRCp7Hhw+fFgHDx7UlVde6VweGRmp/fv368iRI145jvPVokULLViwQM2bN3drP3HiRI2aF2XVoabNicDAQM2ePVsNGzaUMUZJSUnavHmzoqKiatSckMquxYUwL6rOI+XKoSJPga3qjDH66aeftGHDBiUkJMjhcKh///6aMGGCMjMz1b59e7f1mzVrpl27dkmSjhw5osDAwGLLDx06VGnjP1/Dhw8vsT0zM7PMYytr+a+//qq8vDy35bVr11bjxo0v6NqUVovdu3fLx8dHL7/8stavX6/GjRvrjjvu0E033SSp7HmQmZkpSW7Li365HTp0qNh2F4JGjRqpV69ezs8FBQVavHixrrrqqho1L8qqQ02bE2fq06ePDhw4oN69e6tfv356+umna8ycONvZtdi2bZv1eVGtwkhFngJb1R04cMB5vLNnz9a+ffv05JNPKjc3t9Q6FNUgNze3zOVV2R8de1nLix5zXF1q8+OPP8rHx0eXXnqpRowYoc2bN+vRRx9Vw4YNdd1115U5D0qqRVX7txQfH68dO3Zo6dKlWrRoUY2dF2fWYfv27TV2TrzwwgvKysrS1KlTNX369Br9s+LsWnTu3Nn6vKhWYaQiT4Gt6lq3bq1vv/1WAQEB8vHxUceOHVVQUKD7779fUVFRJdahqAal1alevXqVNn5v8ff317Fjx9zaynPsjRo1kr+/v/Pz2curYm1uvPFG9e7dW40bN5YkXX755dqzZ4/efvttXXfddWXOgzN/mJxdl6pQi/j4eL3++ut6/vnnFRISUmPnxdl1uOyyy2rsnAgNDZVUeMflpEmTNHTo0GJ3v9SEOSEVr8WWLVusz4tqdc3ImU+BLVLaU2Crg8aNGzuvC5Gkdu3aKS8vTy1atFBWVpbbullZWc7TZUFBQSUub9GihfcH7WWlHVt5jr1x48by9/d3W3769GkdO3asStbGx8fH+cOlyKWXXqrDhw9LKrsWQUFBkuQ8BXvmf1/otZg2bZoWLlyo+Ph49evXT1LNnBcl1aGmzYmsrCytWbPGra19+/Y6derUef2crIpzoqxanDhxwvq8qFZhpCY9BfbLL79U9+7d3ZL9999/r8aNGysyMlL//e9/ZYyRVHh9yZYtWxQWFiZJCgsLU1JSknO7gwcP6uDBg87lVVlYWJi2b9/uPHUoFc6B0o49JydHO3bsUFhYmGrVqqXQ0FC35cnJyapdu7Yuv/zyyjsID/nf//1fjRo1yq1t586duvTSSyWVPQ+CgoLUqlUrt+VJSUlq1arVBX1twNy5c7VkyRI999xzGjhwoLO9ps2L0upQ0+bEvn37NH78eOcvVUnatm2bmjZtqsjIyBo1J8qqxRtvvGF/XlTo3psq4NFHHzUDBw40KSkpZvXq1aZr167mk08+sT0sj/vtt99Mr169zL/+9S+ze/dus27dOhMdHW3mz59vfvvtN3PVVVeZadOmmV27dplp06aZnj17Om9h27Jli+ncubN55513nPeMjxs3zvIRnbszb2c9ffq0GTBggLnvvvtMWlqaSUhIMOHh4c5nB2RkZJjQ0FCTkJDgfHbA4MGDnbdBr1y50nTt2tWsXr3apKSkmIEDB5pp06ZZO7aKOrMWKSkpplOnTmbBggVm79695s033zRdunQxW7ZsMcb88TxISEgw0dHR5ptvvjHffPONiY6ONq+99pqV4yqP9PR007FjR/P888+7PSvhyJEjNWpelFWHmjYnTp8+bWJjY82dd95pdu3aZdatW2euvvpqs2jRoho1J4wpuxYXwryodmEkOzvbPPDAAyY8PNxER0ebhQsX2h6S16SlpZlRo0aZ8PBw07NnTzNnzhznP5SUlBRz4403mtDQUHPzzTeb7du3u227bNkyc80115jw8HATFxdnjh49auMQPOLsZ2vs2bPH/P3vfzddunQxAwcONF999ZXb+uvWrTPXX3+9ueKKK8zIkSOLPV8lISHB9OjRw0RGRprJkyeb3NzcSjkOTzi7FqtXrzaDBw82oaGhpn///sWCeVnz4PTp0+bpp5823bp1M927dzfx8fHO+XUhSkhIMCEhISX+MabmzIs/qkNNmhPGGHPo0CETFxdnunbtanr27Gleeukl55hrypwoUlYtbM8LH2N+P5cPAABgQfW6kAIAAFQ5hBEAAGAVYQQAAFhFGAEAAFYRRgAAgFWEEQAAYBVhBAAAWEUYAQAAVhFGAACAVYQRAABgFWEEAABYRRgBAABW/X+ScvLv2rfX0wAAAABJRU5ErkJggg==\n",
      "text/plain": [
       "<Figure size 640x480 with 1 Axes>"
      ]
     },
     "metadata": {},
     "output_type": "display_data"
    }
   ],
   "source": [
    "# plot non DP LIMIT_BAL\n",
    "plt.hist(col_counts['LIMIT_BAL'], label='NON DP LIMIT_BAL');\n",
    "# plot DP LIMIT_BAL\n",
    "plt.hist(limit_bal_counts(), alpha=.7, label='DP LIMIT_BAL');\n",
    "plt.legend();"
   ]
  },
  {
   "cell_type": "code",
   "execution_count": 56,
   "id": "c772505e",
   "metadata": {},
   "outputs": [
    {
     "data": {
      "image/png": "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\n",
      "text/plain": [
       "<Figure size 640x480 with 1 Axes>"
      ]
     },
     "metadata": {},
     "output_type": "display_data"
    }
   ],
   "source": [
    "# plot non DP LIMIT_BAL\n",
    "plt.hist(col_counts['AGE'], label='NON DP SEX');\n",
    "# plot DP LIMIT_BAL\n",
    "plt.hist(age_counts(), alpha=.7, label='DP SEX');\n",
    "plt.legend();"
   ]
  },
  {
   "cell_type": "code",
   "execution_count": 74,
   "id": "3d6c978e",
   "metadata": {},
   "outputs": [],
   "source": [
    "dp_sums_and_averages = sums_and_averages()"
   ]
  },
  {
   "cell_type": "code",
   "execution_count": 109,
   "id": "7194cbca",
   "metadata": {},
   "outputs": [
    {
     "ename": "NameError",
     "evalue": "name 'dp_sums_and_averages' is not defined",
     "output_type": "error",
     "traceback": [
      "\u001b[0;31m---------------------------------------------------------------------------\u001b[0m",
      "\u001b[0;31mNameError\u001b[0m                                 Traceback (most recent call last)",
      "Cell \u001b[0;32mIn[26], line 1\u001b[0m\n\u001b[0;32m----> 1\u001b[0m \u001b[38;5;28mprint\u001b[39m(pct_error(col_sums[\u001b[38;5;124m'\u001b[39m\u001b[38;5;124mBILL_AMT1\u001b[39m\u001b[38;5;124m'\u001b[39m], \u001b[43mdp_sums_and_averages\u001b[49m[\u001b[38;5;124m'\u001b[39m\u001b[38;5;124mBILL_AMT1\u001b[39m\u001b[38;5;124m'\u001b[39m][\u001b[38;5;241m0\u001b[39m]))\n\u001b[1;32m      2\u001b[0m \u001b[38;5;28mprint\u001b[39m(pct_error(col_averages[\u001b[38;5;124m'\u001b[39m\u001b[38;5;124mBILL_AMT1\u001b[39m\u001b[38;5;124m'\u001b[39m], dp_sums_and_averages[\u001b[38;5;124m'\u001b[39m\u001b[38;5;124mBILL_AMT1\u001b[39m\u001b[38;5;124m'\u001b[39m][\u001b[38;5;241m1\u001b[39m]))\n\u001b[1;32m      4\u001b[0m \u001b[38;5;28mprint\u001b[39m(pct_error(col_sums[\u001b[38;5;124m'\u001b[39m\u001b[38;5;124mBILL_AMT2\u001b[39m\u001b[38;5;124m'\u001b[39m], dp_sums_and_averages[\u001b[38;5;124m'\u001b[39m\u001b[38;5;124mBILL_AMT2\u001b[39m\u001b[38;5;124m'\u001b[39m][\u001b[38;5;241m0\u001b[39m]))\n",
      "\u001b[0;31mNameError\u001b[0m: name 'dp_sums_and_averages' is not defined"
=======
   "execution_count": 109,
   "id": "7194cbca",
   "metadata": {},
   "outputs": [
    {
     "name": "stdout",
     "output_type": "stream",
     "text": [
      "2    14006.498587\n",
      "1    10589.105846\n",
      "3     4900.556423\n",
      "5      284.136449\n",
      "4      128.491224\n",
      "6       14.094215\n",
      "0        8.099214\n",
      "Name: EDUCATION, dtype: float64\n",
      "96383.6833420576\n",
      "26290.422503808204\n",
      "5085.58392137752\n"
     ]
    }
   ],
   "source": [
    "# Counts of most common education level\n",
    "print(dp_education_counts()) \n",
    "\n",
    "# Average client age\n",
    "dp_averages('AGE')\n",
    "\n",
    "# Average limit balance of a credit card clients accounts\n",
    "print(sparse_vector_averages('LIMIT_BAL')[1])\n",
    "\n",
    "# Average monthly bill amount\n",
    "bill_sum = 0\n",
    "for col in dp_sums_and_averages:\n",
    "    if 'BILL_AMT' in col:\n",
    "        bill_sum += sparse_vector_averages(col)[1]\n",
    "bills_average = \n",
    "print(laplace_mech((bill_sum / 6), 1, epsilon)) # Add extra noise to be safe\n",
    "\n",
    "# Average monthly payment amount\n",
    "pay_sum = 0\n",
    "for col in dp_sums_and_averages:\n",
    "    if 'PAY_AMT' in col:\n",
    "        pay_sum += dp_averages(col)[1]\n",
    "\n",
    "print(laplace_mech((pay_sum / 6), 1, epsilon)) # Add extra noise to be safe\n",
    "\n",
    "# Average monthly bill amount for credit clients in higher education (EDUCATION = 1 or 2)\n",
    "#cc_default_db[cc_default_db['EDUCATION'] <= 2]\n",
    "\n",
    "# Contrast average monthly payments between sexes\n",
    "\n",
    "\n",
    "# Counts of an individual’s marital status in comparison to if they default\n"
   ]
  },
  {
   "cell_type": "markdown",
   "id": "1f52e660",
   "metadata": {},
   "source": [
    "## Generate the PDF writeup document"
   ]
  },
  {
   "cell_type": "code",
   "execution_count": 112,
   "id": "4f16b340-babd-45c1-8094-28ce49224798",
   "metadata": {},
   "outputs": [
    {
     "ename": "NameError",
     "evalue": "name 'dp_age_avg' is not defined",
     "output_type": "error",
     "traceback": [
      "\u001b[0;31m---------------------------------------------------------------------------\u001b[0m",
      "\u001b[0;31mNameError\u001b[0m                                 Traceback (most recent call last)",
      "Cell \u001b[0;32mIn[112], line 21\u001b[0m\n\u001b[1;32m     19\u001b[0m doc\u001b[38;5;241m.\u001b[39mappend(\u001b[38;5;124m'\u001b[39m\u001b[38;5;124mThe follwing statistics were all generated using the sparse vector technique to determine a clipping parameter for the data, and then generating differentially private sums and counts to find a differentially private average.\u001b[39m\u001b[38;5;124m'\u001b[39m)\n\u001b[1;32m     20\u001b[0m \u001b[38;5;28;01mwith\u001b[39;00m doc\u001b[38;5;241m.\u001b[39mcreate(Subsubsection(\u001b[38;5;124m'\u001b[39m\u001b[38;5;124mAverage Age\u001b[39m\u001b[38;5;124m'\u001b[39m)):\n\u001b[0;32m---> 21\u001b[0m     doc\u001b[38;5;241m.\u001b[39mappend(\u001b[38;5;124mf\u001b[39m\u001b[38;5;124m'\u001b[39m\u001b[38;5;124mThe average age of all credit card customers is \u001b[39m\u001b[38;5;132;01m{\u001b[39;00m\u001b[38;5;28mround\u001b[39m(\u001b[43mdp_age_avg\u001b[49m[\u001b[38;5;241m1\u001b[39m], \u001b[38;5;241m2\u001b[39m)\u001b[38;5;132;01m}\u001b[39;00m\u001b[38;5;124m, the differentially private average age of all customers is \u001b[39m\u001b[38;5;132;01m{\u001b[39;00m\u001b[38;5;28mround\u001b[39m(dp_age_avg[\u001b[38;5;241m0\u001b[39m], \u001b[38;5;241m2\u001b[39m)\u001b[38;5;132;01m}\u001b[39;00m\u001b[38;5;124m. This gives an error of \u001b[39m\u001b[38;5;132;01m{\u001b[39;00m\u001b[38;5;28mround\u001b[39m(dp_age_avg[\u001b[38;5;241m2\u001b[39m], \u001b[38;5;241m4\u001b[39m)\u001b[38;5;132;01m}\u001b[39;00m\u001b[38;5;124m%.\u001b[39m\u001b[38;5;124m'\u001b[39m)\n\u001b[1;32m     22\u001b[0m \u001b[38;5;28;01mwith\u001b[39;00m doc\u001b[38;5;241m.\u001b[39mcreate(Subsubsection(\u001b[38;5;124m'\u001b[39m\u001b[38;5;124mAverage Credit Limit Balance\u001b[39m\u001b[38;5;124m'\u001b[39m)):\n\u001b[1;32m     23\u001b[0m     doc\u001b[38;5;241m.\u001b[39mappend(\u001b[38;5;124mf\u001b[39m\u001b[38;5;124m'\u001b[39m\u001b[38;5;124mThe average credit card balance limit of all credit card customers is \u001b[39m\u001b[38;5;132;01m{\u001b[39;00m\u001b[38;5;28mround\u001b[39m(dp_limit_bal_avg[\u001b[38;5;241m1\u001b[39m], \u001b[38;5;241m2\u001b[39m)\u001b[38;5;132;01m}\u001b[39;00m\u001b[38;5;124m, the differentially private average age of all customers is \u001b[39m\u001b[38;5;132;01m{\u001b[39;00m\u001b[38;5;28mround\u001b[39m(dp_limit_bal_avg[\u001b[38;5;241m0\u001b[39m], \u001b[38;5;241m2\u001b[39m)\u001b[38;5;132;01m}\u001b[39;00m\u001b[38;5;124m. This gives an error of \u001b[39m\u001b[38;5;132;01m{\u001b[39;00m\u001b[38;5;28mround\u001b[39m(dp_limit_bal_avg[\u001b[38;5;241m2\u001b[39m], \u001b[38;5;241m4\u001b[39m)\u001b[38;5;132;01m}\u001b[39;00m\u001b[38;5;124m%.\u001b[39m\u001b[38;5;124m'\u001b[39m)\n",
      "\u001b[0;31mNameError\u001b[0m: name 'dp_age_avg' is not defined"
     ]
    }
   ],
   "source": [
    "from pylatex import Document, Section, Subsection, Command, Math, NoEscape, MediumText, Subsubsection\n",
    "from pylatex.utils import italic, NoEscape, verbatim\n",
    "\n",
    "doc = Document()\n",
    "\n",
    "doc.preamble.append(Command('title', 'Credit Card Clients Data Report'))\n",
    "doc.preamble.append(Command('date', NoEscape(r'\\today')))\n",
    "doc.append(NoEscape(r'\\maketitle'))\n",
    "\n",
    "epsilon_eq = NoEscape(r'$\\epsilon$=')\n",
    "\n",
    "doc.append('All data labeled \"differentially private\" in this document satisfies differential privacy for ')\n",
    "doc.append(epsilon_eq)\n",
    "doc.append(f'{epsilon} by sequential composition')\n",
    "\n",
    "with doc.create(Section('Statistics')):\n",
    "\n",
    "    with doc.create(Subsection('Basic Averages')):\n",
    "        doc.append('The follwing statistics were all generated using the sparse vector technique to determine a clipping parameter for the data, and then generating differentially private sums and counts to find a differentially private average.')\n",
    "        \n",
    "        # Average credit card clients age\n",
    "        with doc.create(Subsubsection('Average Age')):\n",
    "            doc.append(f'The average age of all credit card customers is {round(dp_age_avg[1], 2)}, the differentially private average age of all customers is {round(dp_age_avg[0], 2)}. This gives an error of {round(dp_age_avg[2], 4)}%.')\n",
    "        \n",
    "        # Average limit balance of a credit card clients accounts\n",
    "        with doc.create(Subsubsection('Average Credit Limit Balance')):\n",
    "            doc.append(f'The average credit card balance limit of all credit card customers is {round(dp_limit_bal_avg[1], 2)}, the differentially private average credit card balance limit of all customers is {round(dp_limit_bal_avg[0], 2)}. This gives an error of {round(dp_limit_bal_avg[2], 4)}%.')\n",
    "        \n",
    "        # Average monthly bill amount\n",
    "        with doc.create(Subsubsection('Average Bill Amount')):\n",
    "            doc.append(f'The average bill amount of all credit card customers is {round(dp_bill_amt_avg[1], 2)}, the differentially private average bill amount of all customers is {round(dp_bill_amt_avg[0], 2)}. This gives an error of {round(dp_bill_amt_avg[2], 4)}%.')\n",
    "        \n",
    "        # Average monthly payment amount\n",
    "        with doc.create(Subsubsection('Average Pay Amount')):\n",
    "            doc.append(f'The average pay amount of all credit card customers is {round(dp_pay_amt_avg[1], 2)}, the differentially private average pay amount of all customers is {round(dp_pay_amt_avg[0], 2)}. This gives an error of {round(dp_pay_amt_avg[2], 4)}%.')     \n",
    "        \n",
    "       \n",
    "    with doc.create(Subsection('Basic Counts')):\n",
    "        doc.append('The follwing statistics were all generated using the report noisy max method to determine the highest count in a given parameter.')\n",
    "        \n",
    "        # Counts of most common education level\n",
    "        with doc.create(Subsubsection('Education Levels')):\n",
    "            doc.append(f'The most common education level of all credit card customers is {education_counts()}. The most common education level as determined by using a differentially private method is {education_counts()}.')\n",
    "    \n",
    "    \n",
    "    # Contrast average monthly payments between sexes\n",
    "    with doc.create(Subsection('Conditional Averages')):\n",
    "        with doc.create(Subsubsection('Average Monthly Payments of Male credit card customers')):\n",
    "            doc.append(f'The average monthly credit card payments of male customers is {round(dp_pay_amt_male[1], 2)}, the differentially private average is {round(dp_pay_amt_male[0], 2)}. This gives an error of {round(dp_pay_amt_male[2], 4)}%.')\n",
    "        with doc.create(Subsubsection('Average Monthly Payments of Female credit card customers')):\n",
    "            doc.append(f'The average monthly credit card payments of female customers is is {round(dp_pay_amt_female[1], 2)}, the differentially private average is {round(dp_pay_amt_female[0], 2)}. This gives an error of {round(dp_pay_amt_female[2], 4)}%.')\n",
    "        \n",
    "        # Average monthly bill amount for credit clients in higher education (EDUCATION = 1 or 2)\n",
    "        with doc.create(Subsubsection('Average Bill Amount credit clients in Higher Education')):\n",
    "            doc.append(f'The average bill amount of all credit card customers in Higher Education is {round(dp_bill_amt_higheredu_avg[1], 2)}, the differentially private average bill amount of all credit card customers in Higher Education is {round(dp_bill_amt_higheredu_avg[0], 2)}. This gives an error of {round(dp_bill_amt_higheredu_avg[2], 4)}%.')     \n",
    "        \n",
    "    \n",
    "    # Counts of an individual’s marital status in comparison to if they default\n",
    "    with doc.create(Subsection('Conditional Counts')):\n",
<<<<<<< Updated upstream
    "        with doc.create(Subsubsection('Most Common Marital Status with defalt 'YES'')):\n",
    "            doc.append(f'The most common marital status with their defaults of all credit card customers is {marital_default_counts[1]}. The comparison of marital status with their defaults as determined by using a differentially private method is {marital_default_counts[0]}.')\n",
    "        with doc.create(Subsubsection('Most Common Marital Status with defalt 'NO'')):\n",
    "            doc.append(f'The most common marital status with their defaults of all credit card customers is {marital_default_counts[1]}. The comparison of marital status with their defaults as determined by using a differentially private method is {marital_default_counts[0]}.')\n",
    "                \n",
    "       \n",
=======
    "        with doc.create(Subsubsection('Most Common Income Category for College Educated Customers')):\n",
    "            doc.append(f'The most common income level for college educated customers is {dp_income_education_count[1]}, the most common one calculated with a differentially private method is {dp_income_education_count[0]}. ')\n",
    "        with doc.create(Subsubsection('Most Common Income Category for non College Educated Customers')):\n",
    "            doc.append(f'The most common income level for non college educated customers is {dp_income_no_education_count[1]}, the most common one calculated with a differentially private method is {dp_income_no_education_count[0]}. ')\n",
    "\n",
    "\n",
    "            \n",
    "\n",
>>>>>>> Stashed changes
    "doc.generate_pdf('final_report', clean_tex=False)\n",
    "\n",
    "tex = doc.dumps()\n",
    "out = open(\"fianl_report.pdf\", \"a\")\n",
    "out.write(pdf)\n",
    "out.close()"
   ]
  },
  {
   "cell_type": "code",
   "execution_count": null,
   "id": "dccbbfd8",
   "metadata": {},
   "outputs": [],
   "source": []
  }
 ],
 "metadata": {
  "kernelspec": {
   "display_name": "Python 3 (ipykernel)",
   "language": "python",
   "name": "python3"
  },
  "language_info": {
   "codemirror_mode": {
    "name": "ipython",
    "version": 3
   },
   "file_extension": ".py",
   "mimetype": "text/x-python",
   "name": "python",
   "nbconvert_exporter": "python",
   "pygments_lexer": "ipython3",
   "version": "3.10.8"
  }
 },
 "nbformat": 4,
 "nbformat_minor": 5
}
